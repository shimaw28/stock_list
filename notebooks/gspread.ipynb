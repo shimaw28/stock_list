{
 "metadata": {
  "language_info": {
   "codemirror_mode": {
    "name": "ipython",
    "version": 3
   },
   "file_extension": ".py",
   "mimetype": "text/x-python",
   "name": "python",
   "nbconvert_exporter": "python",
   "pygments_lexer": "ipython3",
   "version": "3.7.4-final"
  },
  "orig_nbformat": 2,
  "kernelspec": {
   "name": "Python 3.7.4 64-bit ('base': conda)",
   "display_name": "Python 3.7.4 64-bit ('base': conda)",
   "metadata": {
    "interpreter": {
     "hash": "7ee9c7d39b7be7ce83b84181266f77d7f314cbd2627abbcdea7c46ab8e470065"
    }
   }
  }
 },
 "nbformat": 4,
 "nbformat_minor": 2,
 "cells": [
  {
   "cell_type": "code",
   "execution_count": 1,
   "metadata": {},
   "outputs": [],
   "source": [
    "import os\n",
    "import requests\n",
    "import datetime\n",
    "import re\n",
    "\n",
    "import gspread\n",
    "import pandas as pd\n",
    "from bs4 import BeautifulSoup"
   ]
  },
  {
   "cell_type": "code",
   "execution_count": 2,
   "metadata": {},
   "outputs": [],
   "source": [
    "gc = gspread.service_account(filename=\"../.keys/shimandou-bot-07299fe8b747.json\")"
   ]
  },
  {
   "cell_type": "code",
   "execution_count": 3,
   "metadata": {},
   "outputs": [],
   "source": [
    "wb = gc.open(\"stock_list\")\n",
    "ws = wb.worksheet(\"jp\")"
   ]
  },
  {
   "cell_type": "code",
   "execution_count": 4,
   "metadata": {},
   "outputs": [
    {
     "output_type": "stream",
     "name": "stdout",
     "text": [
      "worksheet loaded\n"
     ]
    }
   ],
   "source": [
    "df = pd.DataFrame(ws.get_all_records())\n",
    "print(\"worksheet loaded\")"
   ]
  },
  {
   "cell_type": "code",
   "execution_count": 5,
   "metadata": {},
   "outputs": [],
   "source": [
    "import pandas_datareader.data as pdr\n",
    "import datetime\n",
    "end = datetime.date.today()\n",
    "start = end - datetime.timedelta(days=10)\n",
    "stock_df = pdr.DataReader(\"8001.JP\", \"stooq\")"
   ]
  },
  {
   "cell_type": "code",
   "execution_count": null,
   "metadata": {},
   "outputs": [],
   "source": []
  },
  {
   "cell_type": "code",
   "execution_count": null,
   "metadata": {},
   "outputs": [],
   "source": []
  },
  {
   "cell_type": "code",
   "execution_count": null,
   "metadata": {},
   "outputs": [],
   "source": []
  },
  {
   "cell_type": "code",
   "execution_count": 281,
   "metadata": {},
   "outputs": [],
   "source": [
    "class CompanyProfile():\n",
    "    def __init__(self, ticker):\n",
    "        self.ticker = ticker\n",
    "        self.updated = None\n",
    "        self.name = None\n",
    "        self.price = None\n",
    "        self.pct_change = None\n",
    "        self.PER = None\n",
    "        self.PSR = None\n",
    "        self.PBR = None\n",
    "        self.ROE = None\n",
    "        self.ROA = None\n",
    "        self.dividend_rate = None\n",
    "        self.market_cap = None\n",
    "        self.category = None\n",
    "        self.description = None\n",
    "        self.url_scouter = f'=HYPERLINK(\"https://monex.ifis.co.jp/index.php?sa=report_index&bcode={ticker}\", \"銘\")'\n",
    "        self.url_kabutan = f'=HYPERLINK(\"https://kabutan.jp/stock/?code={ticker}\", \"探\")'\n",
    "        self.url_keijiban = None\n",
    "\n",
    "\n",
    "    def update(self):\n",
    "        ticker = self.ticker\n",
    "        yahoo_url = f\"https://stocks.finance.yahoo.co.jp/stocks/detail/?code={ticker}.T\"\n",
    "        yahoo_soup = self.get_soup(yahoo_url)\n",
    "\n",
    "        minkabu_url = f\"https://minkabu.jp/stock/{ticker}\"\n",
    "        minkabu_soup = self.get_soup(minkabu_url)\n",
    "\n",
    "        minkabu_url2 = f\"https://minkabu.jp/stock/{ticker}/settlement\" #決算情報@みんかぶ\n",
    "        minkabu_soup2 = self.get_soup(minkabu_url2)\n",
    "\n",
    "        try:\n",
    "            self.name = yahoo_soup.select_one(\".symbol\").text.replace(\"(株)\", \"\")\n",
    "        except Exception as e:\n",
    "            print(\"not found\", e)\n",
    "            return\n",
    "        self.updated = datetime.datetime.now().strftime(\"%Y/%m/%d %H:%M\")\n",
    "        self.price = float(yahoo_soup.select(\".stoksPrice\")[1].text.replace(\",\", \"\"))\n",
    "        self.pct_change = float(re.findall(r\"（(.*)%）\", yahoo_soup.select_one(\".change\").text)[0])\n",
    "        self.url_keijiban = '=HYPERLINK(\"{}\", \"掲\")'.format(\n",
    "            yahoo_soup.select(\".subNavi li a\")[4][\"href\"]\n",
    "        )\n",
    "\n",
    "        minkabu_page = minkabu_soup.select(\".wsnw.fwb\")\n",
    "        self.PER = float(minkabu_page[5].text[:-1].replace(\",\", \"\").replace(\"--\", \"0\"))\n",
    "        self.PBR = float(minkabu_page[7].text[:-1].replace(\",\", \"\").replace(\"--\", \"0\"))\n",
    "        self.PSR = float(minkabu_page[6].text[:-1].replace(\",\", \"\").replace(\"--\", \"0\"))\n",
    "        self.dividend_rate  = float(minkabu_page[3].text[:-1].replace(\",\", \"\").replace(\"--\", \"0\"))\n",
    "        self.market_cap = int(minkabu_page[9].text[:-3].replace(\",\", \"\").replace(\"--\", \"0\"))\n",
    "        self.category = minkabu_soup.select(\".stock-detail div.ly_content_wrapper.size_ss\")[0].select_one(\"a\").text\n",
    "        self.description = minkabu_soup.select(\".stock-detail div.ly_content_wrapper.size_ss\")[1].text.strip()\n",
    "\n",
    "\n",
    "        minkabu_table = minkabu_soup2.select(\".data_table\")[2].select(\".num\")\n",
    "        self.ROA = float(minkabu_table[0].text[:-1].replace(\"--\", \"0\"))\n",
    "        self.ROE = float(minkabu_table[2].text[:-1].replace(\"--\", \"0\"))\n",
    "\n",
    "\n",
    "\n",
    "    def get_soup(self, url):\n",
    "        try:\n",
    "            res = requests.get(url)\n",
    "            soup = BeautifulSoup(res.text)\n",
    "            return soup\n",
    "\n",
    "        except Exception as e:\n",
    "            print(\"ERROR: exception occured during requets or soup\\n\", e)\n",
    "            return None\n",
    "\n",
    "    \n",
    "\n",
    "\n",
    "  "
   ]
  },
  {
   "cell_type": "code",
   "execution_count": 282,
   "metadata": {},
   "outputs": [],
   "source": [
    "column_convertor = {\n",
    "    \"ticker\": \"code\",\n",
    "    \"dividend_rate\": \"利回\",\n",
    "    \"market_cap\": \"cap\",\n",
    "    \"description\": \"desc\",\n",
    "    \"url_scouter\": \"銘\",\n",
    "    \"url_kabutan\": \"探\",\n",
    "    \"url_keijiban\": \"掲\"\n",
    "}"
   ]
  },
  {
   "cell_type": "code",
   "execution_count": 283,
   "metadata": {},
   "outputs": [],
   "source": [
    "UPDATE_ALL = False"
   ]
  },
  {
   "cell_type": "code",
   "execution_count": 284,
   "metadata": {},
   "outputs": [
    {
     "output_type": "stream",
     "name": "stdout",
     "text": [
      "4490...skipped\n",
      "8058...skipped\n",
      "8591...skipped\n",
      "8267...skipped\n",
      "2127...skipped\n",
      "6532...done\n",
      "3937...done\n",
      "3985...done\n",
      "6567...done\n",
      "3915...done\n",
      "2769...done\n",
      "3984...done\n",
      "6579...done\n",
      "3031...done\n",
      "7038...done\n",
      "3969...done\n",
      "4442...done\n",
      "3998...done\n",
      "3674...done\n",
      "6195...done\n",
      "4436...done\n",
      "6559"
     ]
    },
    {
     "output_type": "error",
     "ename": "AttributeError",
     "evalue": "'NoneType' object has no attribute 'text'",
     "traceback": [
      "\u001b[0;31m---------------------------------------------------------------------------\u001b[0m",
      "\u001b[0;31mAttributeError\u001b[0m                            Traceback (most recent call last)",
      "\u001b[0;32m<ipython-input-284-5f14e1b2e868>\u001b[0m in \u001b[0;36m<module>\u001b[0;34m\u001b[0m\n\u001b[1;32m      8\u001b[0m \u001b[0;34m\u001b[0m\u001b[0m\n\u001b[1;32m      9\u001b[0m     \u001b[0mcompany\u001b[0m \u001b[0;34m=\u001b[0m \u001b[0mCompanyProfile\u001b[0m\u001b[0;34m(\u001b[0m\u001b[0mticker\u001b[0m\u001b[0;34m)\u001b[0m\u001b[0;34m\u001b[0m\u001b[0;34m\u001b[0m\u001b[0m\n\u001b[0;32m---> 10\u001b[0;31m     \u001b[0mcompany\u001b[0m\u001b[0;34m.\u001b[0m\u001b[0mupdate\u001b[0m\u001b[0;34m(\u001b[0m\u001b[0;34m)\u001b[0m\u001b[0;34m\u001b[0m\u001b[0;34m\u001b[0m\u001b[0m\n\u001b[0m\u001b[1;32m     11\u001b[0m \u001b[0;34m\u001b[0m\u001b[0m\n\u001b[1;32m     12\u001b[0m     \u001b[0;32mfor\u001b[0m \u001b[0mattr\u001b[0m \u001b[0;32min\u001b[0m \u001b[0mcompany\u001b[0m\u001b[0;34m.\u001b[0m\u001b[0m__dict__\u001b[0m\u001b[0;34m.\u001b[0m\u001b[0mkeys\u001b[0m\u001b[0;34m(\u001b[0m\u001b[0;34m)\u001b[0m\u001b[0;34m:\u001b[0m\u001b[0;34m\u001b[0m\u001b[0;34m\u001b[0m\u001b[0m\n",
      "\u001b[0;32m<ipython-input-281-290f909a596b>\u001b[0m in \u001b[0;36mupdate\u001b[0;34m(self)\u001b[0m\n\u001b[1;32m     33\u001b[0m \u001b[0;34m\u001b[0m\u001b[0m\n\u001b[1;32m     34\u001b[0m         \u001b[0mself\u001b[0m\u001b[0;34m.\u001b[0m\u001b[0mupdated\u001b[0m \u001b[0;34m=\u001b[0m \u001b[0mdatetime\u001b[0m\u001b[0;34m.\u001b[0m\u001b[0mdatetime\u001b[0m\u001b[0;34m.\u001b[0m\u001b[0mnow\u001b[0m\u001b[0;34m(\u001b[0m\u001b[0;34m)\u001b[0m\u001b[0;34m.\u001b[0m\u001b[0mstrftime\u001b[0m\u001b[0;34m(\u001b[0m\u001b[0;34m\"%Y/%m/%d %H:%M\"\u001b[0m\u001b[0;34m)\u001b[0m\u001b[0;34m\u001b[0m\u001b[0;34m\u001b[0m\u001b[0m\n\u001b[0;32m---> 35\u001b[0;31m         \u001b[0mself\u001b[0m\u001b[0;34m.\u001b[0m\u001b[0mname\u001b[0m \u001b[0;34m=\u001b[0m \u001b[0myahoo_soup\u001b[0m\u001b[0;34m.\u001b[0m\u001b[0mselect_one\u001b[0m\u001b[0;34m(\u001b[0m\u001b[0;34m\".symbol\"\u001b[0m\u001b[0;34m)\u001b[0m\u001b[0;34m.\u001b[0m\u001b[0mtext\u001b[0m\u001b[0;34m.\u001b[0m\u001b[0mreplace\u001b[0m\u001b[0;34m(\u001b[0m\u001b[0;34m\"(株)\"\u001b[0m\u001b[0;34m,\u001b[0m \u001b[0;34m\"\"\u001b[0m\u001b[0;34m)\u001b[0m\u001b[0;34m\u001b[0m\u001b[0;34m\u001b[0m\u001b[0m\n\u001b[0m\u001b[1;32m     36\u001b[0m         \u001b[0mself\u001b[0m\u001b[0;34m.\u001b[0m\u001b[0mprice\u001b[0m \u001b[0;34m=\u001b[0m \u001b[0mfloat\u001b[0m\u001b[0;34m(\u001b[0m\u001b[0myahoo_soup\u001b[0m\u001b[0;34m.\u001b[0m\u001b[0mselect\u001b[0m\u001b[0;34m(\u001b[0m\u001b[0;34m\".stoksPrice\"\u001b[0m\u001b[0;34m)\u001b[0m\u001b[0;34m[\u001b[0m\u001b[0;36m1\u001b[0m\u001b[0;34m]\u001b[0m\u001b[0;34m.\u001b[0m\u001b[0mtext\u001b[0m\u001b[0;34m.\u001b[0m\u001b[0mreplace\u001b[0m\u001b[0;34m(\u001b[0m\u001b[0;34m\",\"\u001b[0m\u001b[0;34m,\u001b[0m \u001b[0;34m\"\"\u001b[0m\u001b[0;34m)\u001b[0m\u001b[0;34m)\u001b[0m\u001b[0;34m\u001b[0m\u001b[0;34m\u001b[0m\u001b[0m\n\u001b[1;32m     37\u001b[0m         \u001b[0mself\u001b[0m\u001b[0;34m.\u001b[0m\u001b[0mpct_change\u001b[0m \u001b[0;34m=\u001b[0m \u001b[0mfloat\u001b[0m\u001b[0;34m(\u001b[0m\u001b[0mre\u001b[0m\u001b[0;34m.\u001b[0m\u001b[0mfindall\u001b[0m\u001b[0;34m(\u001b[0m\u001b[0;34mr\"（(.*)%）\"\u001b[0m\u001b[0;34m,\u001b[0m \u001b[0myahoo_soup\u001b[0m\u001b[0;34m.\u001b[0m\u001b[0mselect_one\u001b[0m\u001b[0;34m(\u001b[0m\u001b[0;34m\".change\"\u001b[0m\u001b[0;34m)\u001b[0m\u001b[0;34m.\u001b[0m\u001b[0mtext\u001b[0m\u001b[0;34m)\u001b[0m\u001b[0;34m[\u001b[0m\u001b[0;36m0\u001b[0m\u001b[0;34m]\u001b[0m\u001b[0;34m)\u001b[0m\u001b[0;34m\u001b[0m\u001b[0;34m\u001b[0m\u001b[0m\n",
      "\u001b[0;31mAttributeError\u001b[0m: 'NoneType' object has no attribute 'text'"
     ]
    }
   ],
   "source": [
    "for i in df.index:\n",
    "    ticker = df.loc[i, \"code\"]\n",
    "    print(ticker, end=\"\")\n",
    "\n",
    "    if not(UPDATE_ALL) and df.loc[i, \"name\"]:\n",
    "        print(\"...skipped\")\n",
    "        continue\n",
    "\n",
    "    company = CompanyProfile(ticker)\n",
    "    company.update()\n",
    "\n",
    "    for attr in company.__dict__.keys():\n",
    "        col = column_convertor[attr] if attr in column_convertor.keys() else attr\n",
    "        df.loc[i, col] = company.__dict__[attr]\n",
    "    print(\"...done\")\n"
   ]
  },
  {
   "cell_type": "code",
   "execution_count": null,
   "metadata": {},
   "outputs": [],
   "source": []
  },
  {
   "cell_type": "code",
   "execution_count": 273,
   "metadata": {},
   "outputs": [
    {
     "output_type": "execute_result",
     "data": {
      "text/plain": [
       "{'spreadsheetId': '1smwmI8bKEPHM3gyz57MKoeK2-OA9c65Ljx3hY8u--SI',\n",
       " 'updatedRange': 'jp!A1:V52',\n",
       " 'updatedRows': 52,\n",
       " 'updatedColumns': 22,\n",
       " 'updatedCells': 1144}"
      ]
     },
     "metadata": {},
     "execution_count": 273
    }
   ],
   "source": [
    "list_to_draw = [df.columns.tolist()] + df.fillna(\"\").values.tolist()\n",
    "ws.update(\"A1\", list_to_draw, value_input_option=\"USER_ENTERED\")"
   ]
  },
  {
   "cell_type": "code",
   "execution_count": 276,
   "metadata": {},
   "outputs": [
    {
     "output_type": "stream",
     "name": "stdout",
     "text": [
      "no\n"
     ]
    }
   ],
   "source": [
    "if df.loc[10, \"name\"]:\n",
    "    print(\"yes\")\n",
    "else:\n",
    "    print(\"no\")"
   ]
  },
  {
   "cell_type": "code",
   "execution_count": null,
   "metadata": {},
   "outputs": [],
   "source": []
  }
 ]
}